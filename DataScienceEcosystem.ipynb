{
  "nbformat": 4,
  "nbformat_minor": 0,
  "metadata": {
    "colab": {
      "provenance": [],
      "authorship_tag": "ABX9TyNMcq5UhbldL3CO4lUaJO1B",
      "include_colab_link": true
    },
    "kernelspec": {
      "name": "python3",
      "display_name": "Python 3"
    },
    "language_info": {
      "name": "python"
    }
  },
  "cells": [
    {
      "cell_type": "markdown",
      "metadata": {
        "id": "view-in-github",
        "colab_type": "text"
      },
      "source": [
        "<a href=\"https://colab.research.google.com/github/ngaruniki/Data_study_work/blob/main/DataScienceEcosystem.ipynb\" target=\"_parent\"><img src=\"https://colab.research.google.com/assets/colab-badge.svg\" alt=\"Open In Colab\"/></a>"
      ]
    },
    {
      "cell_type": "markdown",
      "source": [
        "# Data Science Tools and Ecosystem"
      ],
      "metadata": {
        "id": "tzlvTEb6Z4lG"
      }
    },
    {
      "cell_type": "markdown",
      "source": [
        "In this notebook, Data Science Tools and Ecosystem are summarized."
      ],
      "metadata": {
        "id": "U2eJwdeufuX-"
      }
    },
    {
      "cell_type": "markdown",
      "source": [
        "some of the key takeaways from the course\n",
        "\n",
        "**Objectives:**\n",
        "\n",
        "\n",
        "*   List popular languages for Data Science\n",
        "*   List of data science development environments\n",
        "*   List of data science libraries\n",
        "*   Sample of Arithmentic expression in python\n",
        "\n",
        "\n",
        "\n"
      ],
      "metadata": {
        "id": "g2TJ-Q6zzG_O"
      }
    },
    {
      "cell_type": "markdown",
      "source": [
        "Some of the popular languages that Data Scientists use are:\n",
        "\n",
        "1.   Python\n",
        "\n",
        "1.   R\n",
        "\n",
        "1.   Java\n",
        "2.   Julia\n",
        "\n",
        "5.   C++\n",
        "\n",
        "\n",
        "\n",
        "\n",
        "\n",
        "\n"
      ],
      "metadata": {
        "id": "-6xoPqGIgGzQ"
      }
    },
    {
      "cell_type": "markdown",
      "source": [
        "Some of the commonly used libraries used by Data Scientists include:\n",
        "\n",
        "\n",
        "1. TensorFlow.\n",
        "2. PyTorch.\n",
        "3. NumPy.\n",
        "4. SciPy.\n",
        "5. Pandas.\n",
        "6. Matplotlib.\n",
        "7. Keras.\n",
        "8. SciKit-Learn.\n",
        "\n",
        "\n",
        "\n"
      ],
      "metadata": {
        "id": "rv5iP5cMto_8"
      }
    },
    {
      "cell_type": "markdown",
      "source": [
        "| Data Science Tools|\n",
        "| --- |\n",
        "| Jupyter Notebooks  |\n",
        "| R Studio |\n",
        "| Zeppelin Notebooks  |"
      ],
      "metadata": {
        "id": "DR4okDFPudV9"
      }
    },
    {
      "cell_type": "markdown",
      "source": [
        "### Below are a few examples of evaluating arithmetic expressions in Python"
      ],
      "metadata": {
        "id": "1r5n69aUwt4v"
      }
    },
    {
      "cell_type": "code",
      "source": [
        "#This a simple arithmetic expression to mutiply then add integers\n",
        "y=(3*4)+5\n",
        "print(\"answer is \", y)"
      ],
      "metadata": {
        "colab": {
          "base_uri": "https://localhost:8080/"
        },
        "id": "iBbxQ0egxLT4",
        "outputId": "57a49ee2-efcd-4588-ad78-7c4a5320e5c0"
      },
      "execution_count": 1,
      "outputs": [
        {
          "output_type": "stream",
          "name": "stdout",
          "text": [
            "answer is  17\n"
          ]
        }
      ]
    },
    {
      "cell_type": "code",
      "source": [
        "#minutes to hours\n",
        "y=200/60\n",
        "print(\"200 hours converted to minutes is \", y, \"hours\")"
      ],
      "metadata": {
        "colab": {
          "base_uri": "https://localhost:8080/"
        },
        "id": "lXdArDvZxsZz",
        "outputId": "bdd43cd6-ad5e-46cd-b3a3-ca3da0b197c8"
      },
      "execution_count": 3,
      "outputs": [
        {
          "output_type": "stream",
          "name": "stdout",
          "text": [
            "200 hours converted to minutes is  3.3333333333333335 hours\n"
          ]
        }
      ]
    },
    {
      "cell_type": "markdown",
      "source": [
        "## Author\n",
        "Name: Patrick Kinyua Gikunda"
      ],
      "metadata": {
        "id": "gnc9wQhA0N6g"
      }
    }
  ]
}